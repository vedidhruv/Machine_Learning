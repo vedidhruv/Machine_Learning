{
 "cells": [
  {
   "cell_type": "markdown",
   "metadata": {},
   "source": [
    "# MACHINE LEARNING"
   ]
  },
  {
   "cell_type": "markdown",
   "metadata": {},
   "source": [
    "## Vectorization in Machine Learning\n",
    "\n",
    "In this notebook, we will be looking at usage of numpy and vectorization and how it can decrease computation time for a machine learning algorithm."
   ]
  },
  {
   "cell_type": "code",
   "execution_count": 2,
   "metadata": {},
   "outputs": [],
   "source": [
    "import numpy as np\n",
    "import time"
   ]
  },
  {
   "cell_type": "code",
   "execution_count": 3,
   "metadata": {},
   "outputs": [
    {
     "name": "stdout",
     "output_type": "stream",
     "text": [
      "np.zeros(4) :   a = [0. 0. 0. 0.], a shape = (4,), a data type = float64\n",
      "np.zeros(4,) :  a = [0. 0. 0. 0.], a shape = (4,), a data type = float64\n",
      "np.random.random_sample(4): a = [0.35799834 0.06476278 0.62157059 0.78895975], a shape = (4,), a data type = float64\n"
     ]
    }
   ],
   "source": [
    "# NumPy routines which allocate memory and fill arrays with value\n",
    "a = np.zeros(4);                print(f\"np.zeros(4) :   a = {a}, a shape = {a.shape}, a data type = {a.dtype}\")\n",
    "a = np.zeros((4,));             print(f\"np.zeros(4,) :  a = {a}, a shape = {a.shape}, a data type = {a.dtype}\")\n",
    "a = np.random.random_sample(4); print(f\"np.random.random_sample(4): a = {a}, a shape = {a.shape}, a data type = {a.dtype}\")"
   ]
  },
  {
   "cell_type": "code",
   "execution_count": 4,
   "metadata": {},
   "outputs": [
    {
     "name": "stdout",
     "output_type": "stream",
     "text": [
      "np.arrange(4.) : a = [0. 1. 2. 3.], a shape = (4,), a data type = float64\n",
      "np.random.rand(4) : a = [0.79807558 0.25766191 0.53208785 0.59337143], a shape = (4,), a data type = float64\n"
     ]
    }
   ],
   "source": [
    "a = np.arange(4.)\n",
    "print(f\"np.arrange(4.) : a = {a}, a shape = {a.shape}, a data type = {a.dtype}\")\n",
    "a = np.random.rand(4)\n",
    "print(f\"np.random.rand(4) : a = {a}, a shape = {a.shape}, a data type = {a.dtype}\")"
   ]
  },
  {
   "cell_type": "code",
   "execution_count": 5,
   "metadata": {},
   "outputs": [
    {
     "name": "stdout",
     "output_type": "stream",
     "text": [
      "np.array([5, 4, 3, 2]) : a = [5 4 3 2], a shape = (4,), a data type = int32\n",
      "np.array([5., 4, 3, 1]) : a = [5. 4. 3. 1.], a shape = (4,), a data type = float64\n"
     ]
    }
   ],
   "source": [
    "a = np.array([5, 4, 3, 2])\n",
    "print(f\"np.array([5, 4, 3, 2]) : a = {a}, a shape = {a.shape}, a data type = {a.dtype}\")\n",
    "a = np.array([5., 4, 3, 1])\n",
    "print(f\"np.array([5., 4, 3, 1]) : a = {a}, a shape = {a.shape}, a data type = {a.dtype}\")"
   ]
  },
  {
   "cell_type": "markdown",
   "metadata": {},
   "source": [
    "### Indexing of NumPy array"
   ]
  },
  {
   "cell_type": "code",
   "execution_count": 9,
   "metadata": {},
   "outputs": [
    {
     "name": "stdout",
     "output_type": "stream",
     "text": [
      "[0 1 2 3 4 5 6 7 8 9]\n",
      "a[2].shape: () a[2]: 2, accessing an element returns a scalar value \n",
      "last element: 9\n",
      "Exception: index 10 is out of bounds for axis 0 with size 10\n"
     ]
    }
   ],
   "source": [
    "a = np.arange(10)\n",
    "print(a)\n",
    "\n",
    "print(f\"a[2].shape: {a[2].shape} a[2]: {a[2]}, accessing an element returns a scalar value \")\n",
    "\n",
    "print(f\"last element: {a[-1]}\")\n",
    "\n",
    "try:\n",
    "    c = a[10]\n",
    "except Exception as e:\n",
    "    print(f\"Exception: {e}\")"
   ]
  },
  {
   "cell_type": "markdown",
   "metadata": {},
   "source": [
    "### Slicing "
   ]
  },
  {
   "cell_type": "code",
   "execution_count": 10,
   "metadata": {},
   "outputs": [
    {
     "name": "stdout",
     "output_type": "stream",
     "text": [
      "a = [0 1 2 3 4 5 6 7 8 9]\n",
      "a[2:7:1] = [2 3 4 5 6]\n",
      "a[2:7:2] = [2 4 6]\n",
      "a[3:] = [3 4 5 6 7 8 9]\n",
      "a[:3] = [0 1 2]\n",
      "a[:] = [0 1 2 3 4 5 6 7 8 9]\n"
     ]
    }
   ],
   "source": [
    "# Vector slicing operations\n",
    "a = np.arange(10)\n",
    "print(f\"a = {a}\")\n",
    "\n",
    "# access 5 consecutive elements (start, stop, step)\n",
    "c = a[2:7:1]; print(f\"a[2:7:1] = {c}\")\n",
    "\n",
    "# access 3 elements seperated by 2\n",
    "c = a[2:7:2]; print(f\"a[2:7:2] = {c}\")\n",
    "\n",
    "# access all elements index 3 and above\n",
    "c = a[3:]; print(f\"a[3:] = {c}\")\n",
    "\n",
    "# access all elements index 3 and below\n",
    "c = a[:3]; print(f\"a[:3] = {c}\")\n",
    "\n",
    "# access all elements\n",
    "c = a[:]; print(f\"a[:] = {c}\") "
   ]
  },
  {
   "cell_type": "markdown",
   "metadata": {},
   "source": [
    "### Single Vector Operations"
   ]
  },
  {
   "cell_type": "code",
   "execution_count": 13,
   "metadata": {},
   "outputs": [
    {
     "name": "stdout",
     "output_type": "stream",
     "text": [
      "a = [1 2 3 4 5]\n",
      "b = [-1 -2 -3 -4 -5]\n",
      "b = 15\n",
      "b = 3.0\n",
      "b = [ 1  4  9 16 25]\n"
     ]
    }
   ],
   "source": [
    "a = np.array([1,2,3,4, 5])\n",
    "print(f\"a = {a}\")\n",
    "\n",
    "# negate elements of a\n",
    "b = -a; print(f\"b = {b}\")\n",
    "\n",
    "# sum of all elements of a, returns a scalar\n",
    "b = np.sum(a); print(f\"b = {b}\")\n",
    "\n",
    "# mean of a\n",
    "b = np.mean(a); print(f\"b = {b}\")\n",
    "\n",
    "b = a**2; print(f\"b = {b}\")"
   ]
  },
  {
   "cell_type": "markdown",
   "metadata": {},
   "source": [
    "### Vector Vector element wise Operations"
   ]
  },
  {
   "cell_type": "code",
   "execution_count": 19,
   "metadata": {},
   "outputs": [
    {
     "name": "stdout",
     "output_type": "stream",
     "text": [
      "Binary Operations work element wise: [2 0 0 8]\n"
     ]
    }
   ],
   "source": [
    "a = np.array([1,2,3,4])\n",
    "b = np.array([1,-2,-3,4])\n",
    "try:\n",
    "    print(f\"Binary Operations work element wise: {a+b}\")\n",
    "except Exception as e:\n",
    "    print(f\"Exception: {e}\")"
   ]
  },
  {
   "cell_type": "markdown",
   "metadata": {},
   "source": [
    "### Scalar Vector Operations"
   ]
  },
  {
   "cell_type": "code",
   "execution_count": 20,
   "metadata": {},
   "outputs": [
    {
     "name": "stdout",
     "output_type": "stream",
     "text": [
      "5*a: [ 5 10 15 20]\n"
     ]
    }
   ],
   "source": [
    "a = np.array([1,2,3,4])\n",
    "\n",
    "print(f\"5*a: {5*a}\")"
   ]
  },
  {
   "cell_type": "markdown",
   "metadata": {},
   "source": [
    "### Vector dot product"
   ]
  },
  {
   "cell_type": "code",
   "execution_count": 37,
   "metadata": {},
   "outputs": [],
   "source": [
    "def my_dot(a, b):\n",
    "    \"\"\"\n",
    "    Compute the dot product of two vectors\n",
    "    Args:\n",
    "        a: ndarray(n, ): input vector\n",
    "        b: ndarray(n, ): input vector\n",
    "    \n",
    "    Returns:\n",
    "        dot_product: scalar\n",
    "    \"\"\"\n",
    "    \n",
    "    try:\n",
    "        assert a.shape == b.shape\n",
    "        x = 0\n",
    "        for i in range(len(a)):\n",
    "            x += a[i]*b[i]\n",
    "        return x\n",
    "    except:\n",
    "        print(\"Error: Arrays must be the same shape\")\n",
    "        return None\n",
    "    "
   ]
  },
  {
   "cell_type": "code",
   "execution_count": 40,
   "metadata": {},
   "outputs": [
    {
     "name": "stdout",
     "output_type": "stream",
     "text": [
      "c = 4\n"
     ]
    }
   ],
   "source": [
    "a = np.array([1,2,3,4])\n",
    "b = np.array([1,-2,-3,4])\n",
    "c = my_dot(a, b)\n",
    "\n",
    "print(f\"c = {c}\")"
   ]
  },
  {
   "cell_type": "code",
   "execution_count": 41,
   "metadata": {},
   "outputs": [
    {
     "name": "stdout",
     "output_type": "stream",
     "text": [
      "a.b = 4\n",
      "b.a = 4\n"
     ]
    }
   ],
   "source": [
    "# dot using np\n",
    "try:\n",
    "    c = np.dot(a, b); print(f\"a.b = {c}\")\n",
    "    c = np.dot(b, a); print(f\"b.a = {c}\")\n",
    "except Exception as e:\n",
    "    print(f\"Exception: {e}\")"
   ]
  },
  {
   "cell_type": "markdown",
   "metadata": {},
   "source": [
    "### Comparing vector implementation versus for loop implementation"
   ]
  },
  {
   "cell_type": "code",
   "execution_count": 50,
   "metadata": {},
   "outputs": [
    {
     "name": "stdout",
     "output_type": "stream",
     "text": [
      "Vectorized version: 0.9968280792236328 ms\n",
      "dot product = 250153.50303650688\n",
      "Non-vectorized version: 412.1725559234619 ms\n",
      "dot product = 250153.50303650292\n"
     ]
    }
   ],
   "source": [
    "a = np.random.rand(1000000)\n",
    "b = np.random.rand(1000000)\n",
    "\n",
    "tic = time.time()  # start time\n",
    "c = np.dot(a, b)\n",
    "toc = time.time()  # end time\n",
    "\n",
    "print(f\"Vectorized version: {1000*(toc-tic)} ms\")\n",
    "print(f\"dot product = {c}\")\n",
    "\n",
    "tic = time.time()  # start time\n",
    "c = my_dot(a, b)\n",
    "toc = time.time()  # end time\n",
    "\n",
    "print(f\"Non-vectorized version: {1000*(toc-tic)} ms\")\n",
    "print(f\"dot product = {c}\")\n",
    "del(a, b, c)"
   ]
  },
  {
   "cell_type": "code",
   "execution_count": 53,
   "metadata": {},
   "outputs": [
    {
     "name": "stdout",
     "output_type": "stream",
     "text": [
      "X[1] has shape = (1,)\n",
      "w has shape = (1,)\n",
      "b has shape = ()\n"
     ]
    }
   ],
   "source": [
    "# common vector vector operations\n",
    "\n",
    "X = np.array([[1], [2], [3], [4]])\n",
    "w = np.array([2])\n",
    "b = np.dot(X[1], w)\n",
    "\n",
    "print(f\"X[1] has shape = {X[1].shape}\")\n",
    "print(f\"w has shape = {w.shape}\")\n",
    "print(f\"b has shape = {b.shape}\")"
   ]
  },
  {
   "cell_type": "markdown",
   "metadata": {},
   "source": [
    "## MATRICES"
   ]
  },
  {
   "cell_type": "markdown",
   "metadata": {},
   "source": [
    "matrices are two dimensional arrays. The elements of a matrix are all of the same type. Numpy's basic data structure is an indexable n dimensional  *array* containing elements of the same type (`dtype`). Matrices are two-dimensional array of index[m,n]\n",
    "2-D matrices are used to hold training data. Training data is $m$ examples by $n$ features creating an (m,n) array. Course 1 does not do operations directly on matrices but typically extracts an example as a vector and operates on that. Below you will review: \n",
    "- data creation\n",
    "- slicing and indexing"
   ]
  },
  {
   "cell_type": "code",
   "execution_count": 54,
   "metadata": {},
   "outputs": [
    {
     "name": "stdout",
     "output_type": "stream",
     "text": [
      "a shape = (1, 5), a = [[0. 0. 0. 0. 0.]]\n",
      "a shape = (2, 1), a = [[0.]\n",
      " [0.]]\n",
      "a shape = (1, 1), a = [[0.53127675]]\n"
     ]
    }
   ],
   "source": [
    "a = np.zeros((1, 5))                                       \n",
    "print(f\"a shape = {a.shape}, a = {a}\")                     \n",
    "\n",
    "a = np.zeros((2, 1))                                                                   \n",
    "print(f\"a shape = {a.shape}, a = {a}\") \n",
    "\n",
    "a = np.random.random_sample((1, 1))  \n",
    "print(f\"a shape = {a.shape}, a = {a}\") "
   ]
  },
  {
   "cell_type": "code",
   "execution_count": 55,
   "metadata": {},
   "outputs": [
    {
     "name": "stdout",
     "output_type": "stream",
     "text": [
      " a shape = (3, 1), np.array: a = [[5]\n",
      " [4]\n",
      " [3]]\n",
      " a shape = (3, 1), np.array: a = [[5]\n",
      " [4]\n",
      " [3]]\n"
     ]
    }
   ],
   "source": [
    "# NumPy routines which allocate memory and fill with user specified values\n",
    "a = np.array([[5], [4], [3]]);   print(f\" a shape = {a.shape}, np.array: a = {a}\")\n",
    "a = np.array([[5],   # One can also\n",
    "              [4],   # separate values\n",
    "              [3]]); #into separate rows\n",
    "print(f\" a shape = {a.shape}, np.array: a = {a}\")"
   ]
  },
  {
   "cell_type": "code",
   "execution_count": 56,
   "metadata": {},
   "outputs": [
    {
     "name": "stdout",
     "output_type": "stream",
     "text": [
      " a shape = (3, 2), np.arange(6).reshape(-1, 2): a = [[0 1]\n",
      " [2 3]\n",
      " [4 5]]\n"
     ]
    }
   ],
   "source": [
    "a = np.arange(6).reshape(-1, 2)\n",
    "print(f\" a shape = {a.shape}, np.arange(6).reshape(-1, 2): a = {a}\")"
   ]
  },
  {
   "cell_type": "code",
   "execution_count": 58,
   "metadata": {},
   "outputs": [
    {
     "name": "stdout",
     "output_type": "stream",
     "text": [
      "\n",
      "a[2,0].shape: () a[2,0]: 4, accessing an element returns a scalar value \n",
      "\n",
      "a[2].shape: (2,) a[2]: [4 5], accessing a row returns a vector \n"
     ]
    }
   ],
   "source": [
    "print(f\"\\na[2,0].shape: {a[2,0].shape} a[2,0]: {a[2,0]}, accessing an element returns a scalar value \")\n",
    "print(f\"\\na[2].shape: {a[2].shape} a[2]: {a[2]}, accessing a row returns a vector \")"
   ]
  },
  {
   "cell_type": "markdown",
   "metadata": {},
   "source": [
    "### Slicing \n",
    "creates an array of indices using a set of three values"
   ]
  },
  {
   "cell_type": "code",
   "execution_count": 63,
   "metadata": {},
   "outputs": [
    {
     "name": "stdout",
     "output_type": "stream",
     "text": [
      "\n",
      "a = [[ 0  1  2  3  4  5  6  7  8  9]\n",
      " [10 11 12 13 14 15 16 17 18 19]]\n",
      "a[0, 2:7:1] = [2 3 4 5 6], shape = (5,)\n",
      "a[:, 2:7:1] = \n",
      " [[ 2  3  4  5  6]\n",
      " [12 13 14 15 16]] ,  a[:, 2:7:1].shape = (2, 5) a 2-D array\n",
      "a[:, :] = \n",
      " [[ 0  1  2  3  4  5  6  7  8  9]\n",
      " [10 11 12 13 14 15 16 17 18 19]] ,  a[:, :].shape = (2, 10) a 2-D array\n"
     ]
    }
   ],
   "source": [
    "# vector 2D slicing operations\n",
    "a = np.arange(20).reshape(-1, 10)\n",
    "print(f\"\\na = {a}\")\n",
    "\n",
    "# access 5 consecutive elements (start, stop, step)\n",
    "print(f\"a[0, 2:7:1] = {a[0, 2:7:1]}, shape = {a[0, 2:7:1].shape}\")\n",
    "\n",
    "# access 5 consecutive elements (start, stop, step) of two rows\n",
    "print(\"a[:, 2:7:1] = \\n\", a[:, 2:7:1], \",  a[:, 2:7:1].shape =\", a[:, 2:7:1].shape, \"a 2-D array\")\n",
    "\n",
    "# access all elements\n",
    "print(\"a[:, :] = \\n\", a[:, :], \",  a[:, :].shape =\", a[:, :].shape, \"a 2-D array\")"
   ]
  },
  {
   "cell_type": "markdown",
   "metadata": {},
   "source": [
    "# Multiple Linear Regression"
   ]
  },
  {
   "cell_type": "markdown",
   "metadata": {},
   "source": [
    "### [*Only for Linear Regression*]\n",
    "Normal Equation\n",
    "- Only for Linear Regression\n",
    "- Solve for w, b without iterations\n",
    "\n",
    "Disadvantages\n",
    "- Doesn't generalize to other machine learning algorithms \n",
    "- Slow when the number of features are large (n>1000)"
   ]
  },
  {
   "cell_type": "code",
   "execution_count": null,
   "metadata": {},
   "outputs": [],
   "source": []
  }
 ],
 "metadata": {
  "kernelspec": {
   "display_name": "Python 3",
   "language": "python",
   "name": "python3"
  },
  "language_info": {
   "codemirror_mode": {
    "name": "ipython",
    "version": 3
   },
   "file_extension": ".py",
   "mimetype": "text/x-python",
   "name": "python",
   "nbconvert_exporter": "python",
   "pygments_lexer": "ipython3",
   "version": "3.11.4"
  }
 },
 "nbformat": 4,
 "nbformat_minor": 2
}
