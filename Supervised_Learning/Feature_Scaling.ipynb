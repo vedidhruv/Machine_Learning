{
 "cells": [
  {
   "cell_type": "markdown",
   "metadata": {},
   "source": [
    "## Feature Scaling\n",
    "Feature Scaling is important to improve the performance of gradient descent algorithm by helping it find global minima in much less iterations"
   ]
  },
  {
   "cell_type": "markdown",
   "metadata": {},
   "source": [
    "Methods of Feature Scaling are:\n",
    "- Divide by max value of feature\n",
    "- Mean normalization\n",
    "> First step is to find mean of the feature *u* <br/>\n",
    "> next, replace feature by ( x - *u* )  / ( \"max\" - \"min )\n",
    "\n",
    "- Z Score normalization\n",
    "> x = [ x - *u* ] / sigma"
   ]
  },
  {
   "cell_type": "markdown",
   "metadata": {},
   "source": [
    "In Feature Scaling, you should always aim for values of feature to be -1 <= x <= 1 for each feature x <br/>\n",
    "No need to rescale if values are nearly the above suggested range <br/>\n",
    "Also, no need to scale all features, only scale features which require scaling"
   ]
  },
  {
   "cell_type": "markdown",
   "metadata": {},
   "source": []
  }
 ],
 "metadata": {
  "language_info": {
   "name": "python"
  }
 },
 "nbformat": 4,
 "nbformat_minor": 2
}
